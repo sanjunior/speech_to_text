{
 "cells": [
  {
   "cell_type": "markdown",
   "id": "d17b877c",
   "metadata": {},
   "source": [
    "## 0. Install and Import Dependencies"
   ]
  },
  {
   "cell_type": "code",
   "execution_count": 6,
   "id": "2e1723ff",
   "metadata": {},
   "outputs": [
    {
     "name": "stdout",
     "output_type": "stream",
     "text": [
      "Requirement already satisfied: ibm_watson in c:\\users\\sanuk\\anaconda3\\lib\\site-packages (6.0.0)\n",
      "Requirement already satisfied: requests<3.0,>=2.0 in c:\\users\\sanuk\\anaconda3\\lib\\site-packages (from ibm_watson) (2.27.1)\n",
      "Requirement already satisfied: python-dateutil>=2.5.3 in c:\\users\\sanuk\\anaconda3\\lib\\site-packages (from ibm_watson) (2.8.2)\n",
      "Requirement already satisfied: websocket-client==1.1.0 in c:\\users\\sanuk\\anaconda3\\lib\\site-packages (from ibm_watson) (1.1.0)\n",
      "Requirement already satisfied: ibm-cloud-sdk-core==3.*,>=3.3.6 in c:\\users\\sanuk\\anaconda3\\lib\\site-packages (from ibm_watson) (3.15.3)\n",
      "Requirement already satisfied: PyJWT<3.0.0,>=2.4.0 in c:\\users\\sanuk\\anaconda3\\lib\\site-packages (from ibm-cloud-sdk-core==3.*,>=3.3.6->ibm_watson) (2.4.0)\n",
      "Requirement already satisfied: urllib3<2.0.0,>=1.26.0 in c:\\users\\sanuk\\anaconda3\\lib\\site-packages (from ibm-cloud-sdk-core==3.*,>=3.3.6->ibm_watson) (1.26.9)\n",
      "Requirement already satisfied: six>=1.5 in c:\\users\\sanuk\\anaconda3\\lib\\site-packages (from python-dateutil>=2.5.3->ibm_watson) (1.16.0)\n",
      "Requirement already satisfied: certifi>=2017.4.17 in c:\\users\\sanuk\\anaconda3\\lib\\site-packages (from requests<3.0,>=2.0->ibm_watson) (2021.10.8)\n",
      "Requirement already satisfied: charset-normalizer~=2.0.0 in c:\\users\\sanuk\\anaconda3\\lib\\site-packages (from requests<3.0,>=2.0->ibm_watson) (2.0.4)\n",
      "Requirement already satisfied: idna<4,>=2.5 in c:\\users\\sanuk\\anaconda3\\lib\\site-packages (from requests<3.0,>=2.0->ibm_watson) (2.10)\n"
     ]
    }
   ],
   "source": [
    "!pip install ibm_watson"
   ]
  },
  {
   "cell_type": "code",
   "execution_count": 12,
   "id": "06e50dc6",
   "metadata": {},
   "outputs": [],
   "source": [
    "from ibm_watson import SpeechToTextV1\n",
    "from ibm_cloud_sdk_core.authenticators import IAMAuthenticator"
   ]
  },
  {
   "cell_type": "markdown",
   "id": "8f5a5782",
   "metadata": {},
   "source": [
    "## 1. Setup STT Service"
   ]
  },
  {
   "cell_type": "code",
   "execution_count": 13,
   "id": "46552838",
   "metadata": {},
   "outputs": [],
   "source": [
    "apikey= 'jA6xOxP2ao6m2G5bB8LdUfEMP1rtF0wMJIgyzts94wkd'\n",
    "url = 'https://api.au-syd.speech-to-text.watson.cloud.ibm.com/instances/a2551bb9-fcff-46f3-8e3d-db1d4d240dec'"
   ]
  },
  {
   "cell_type": "code",
   "execution_count": 18,
   "id": "13fadd5c",
   "metadata": {},
   "outputs": [],
   "source": [
    "#setup service\n",
    "authenticator=IAMAuthenticator(apikey)\n",
    "stt=SpeechToTextV1(authenticator=authenticator)\n",
    "stt.set_service_url(url)"
   ]
  },
  {
   "cell_type": "markdown",
   "id": "be270a1f",
   "metadata": {},
   "source": [
    "## 2. Open audio source and convert"
   ]
  },
  {
   "cell_type": "code",
   "execution_count": 30,
   "id": "0dcf553e",
   "metadata": {},
   "outputs": [],
   "source": [
    "#Perform Conversion\n",
    "with open('music.mp3', 'rb') as f:\n",
    "    res=stt.recognize(audio=f,content_type='audio/mp3',model='en-US_NarrowbandModel').get_result()"
   ]
  },
  {
   "cell_type": "code",
   "execution_count": 31,
   "id": "432826d4",
   "metadata": {},
   "outputs": [
    {
     "data": {
      "text/plain": [
       "{'result_index': 0,\n",
       " 'results': [{'final': True,\n",
       "   'alternatives': [{'transcript': \"the boys is one of the most incredible series I have ever seen for three seasons are complete buying us %HESITATION tentatively I will be waiting for season four I have grown up watching Marvel movies in the few DC ones they will always fascinating they made me wonder about the globe galaxies and whatnot even in adulthood I enjoy science fiction however the approach she's a bit this stinks now super heroes are supposed to save humankind from villains and soul of the storyline in every other movie or series you will find although lately it is changed yes they're all villains there are heroes but the villains are now carrying a powerful message a strong vision a clear mission like final student adventures all the joker in back ma'am there are many other examples so I will keep them to you to ponder this transition made villains less sinful message juncture it made sense why they killed the people at the top new person is a real hero or a villain often when I look back and think about all those movies and series I soul it's not a person but the mentality idols greed and ignorance who's the villain the love to boys above almost all those superhero films because it seems so natural authentic super heroes on humans for humans have about sight once this so called wrong site is triggered that person becomes toxic to society it's already a pain in the **** for police government except to deal with these people so what will happen if the super heroes will turn back the boys portray an excellent presentation of human emotions it is a gun point on the head media for always being biased and currying misinformation for T. L. P. the boys are sensational regarding violence drama and humor yes it is in \",\n",
       "     'confidence': 0.8}]},\n",
       "  {'final': True,\n",
       "   'alternatives': [{'transcript': \"M. as in series but certainly it is kept a benchmark for the many out that I am fond of connecting and I must say these characters have done a spectacular job in the execution they made me take the super heroes I have loved since childhood indeed me being an adult played it popped in me adoring the flow but bro there is a contradiction contrast banter love violence nudity humor and everything you see there is comfort in the plot there's a comfort in revenge and when you look back you are uncertain about your own teams as I said it is an authentic monster class on how things are supposed to be when there are few among us with supernatural abilities \",\n",
       "     'confidence': 0.76}]}]}"
      ]
     },
     "execution_count": 31,
     "metadata": {},
     "output_type": "execute_result"
    }
   ],
   "source": [
    "res"
   ]
  },
  {
   "cell_type": "markdown",
   "id": "cb72b89c",
   "metadata": {},
   "source": [
    "## Results are slightly innaccurate here as the audio has english acccent but we have chosen here the american model"
   ]
  },
  {
   "cell_type": "code",
   "execution_count": 34,
   "id": "6ff7dd84",
   "metadata": {
    "scrolled": true
   },
   "outputs": [
    {
     "data": {
      "text/plain": [
       "\"the boys is one of the most incredible series I have ever seen for three seasons are complete buying us %HESITATION tentatively I will be waiting for season four I have grown up watching Marvel movies in the few DC ones they will always fascinating they made me wonder about the globe galaxies and whatnot even in adulthood I enjoy science fiction however the approach she's a bit this stinks now super heroes are supposed to save humankind from villains and soul of the storyline in every other movie or series you will find although lately it is changed yes they're all villains there are heroes but the villains are now carrying a powerful message a strong vision a clear mission like final student adventures all the joker in back ma'am there are many other examples so I will keep them to you to ponder this transition made villains less sinful message juncture it made sense why they killed the people at the top new person is a real hero or a villain often when I look back and think about all those movies and series I soul it's not a person but the mentality idols greed and ignorance who's the villain the love to boys above almost all those superhero films because it seems so natural authentic super heroes on humans for humans have about sight once this so called wrong site is triggered that person becomes toxic to society it's already a pain in the **** for police government except to deal with these people so what will happen if the super heroes will turn back the boys portray an excellent presentation of human emotions it is a gun point on the head media for always being biased and currying misinformation for T. L. P. the boys are sensational regarding violence drama and humor yes it is in \""
      ]
     },
     "execution_count": 34,
     "metadata": {},
     "output_type": "execute_result"
    }
   ],
   "source": [
    "text = res['results'][0]['alternatives'][0]['transcript']\n",
    "text"
   ]
  },
  {
   "cell_type": "code",
   "execution_count": 35,
   "id": "ae26bf62",
   "metadata": {},
   "outputs": [
    {
     "data": {
      "text/plain": [
       "0.8"
      ]
     },
     "execution_count": 35,
     "metadata": {},
     "output_type": "execute_result"
    }
   ],
   "source": [
    "confidence = res['results'][0]['alternatives'][0]['confidence']\n",
    "confidence"
   ]
  },
  {
   "cell_type": "code",
   "execution_count": 36,
   "id": "2efd73f4",
   "metadata": {},
   "outputs": [],
   "source": [
    "with open('output.txt', 'w') as out:\n",
    "    out.writelines(text)"
   ]
  },
  {
   "cell_type": "markdown",
   "id": "57117daf",
   "metadata": {},
   "source": [
    "## 3. Change Language Models"
   ]
  },
  {
   "cell_type": "code",
   "execution_count": 38,
   "id": "f2f561ea",
   "metadata": {},
   "outputs": [],
   "source": [
    "#Perform Conversion\n",
    "with open('music.mp3', 'rb') as f:\n",
    "    res=stt.recognize(audio=f,content_type='audio/mp3',model='en-GB_NarrowbandModel').get_result()"
   ]
  },
  {
   "cell_type": "code",
   "execution_count": null,
   "id": "1555c2a4",
   "metadata": {},
   "outputs": [],
   "source": []
  }
 ],
 "metadata": {
  "kernelspec": {
   "display_name": "Python 3 (ipykernel)",
   "language": "python",
   "name": "python3"
  },
  "language_info": {
   "codemirror_mode": {
    "name": "ipython",
    "version": 3
   },
   "file_extension": ".py",
   "mimetype": "text/x-python",
   "name": "python",
   "nbconvert_exporter": "python",
   "pygments_lexer": "ipython3",
   "version": "3.9.12"
  }
 },
 "nbformat": 4,
 "nbformat_minor": 5
}
